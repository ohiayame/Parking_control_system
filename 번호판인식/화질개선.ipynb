{
 "cells": [
  {
   "cell_type": "code",
   "execution_count": 59,
   "metadata": {},
   "outputs": [
    {
     "data": {
      "image/png": "[encoded data removed]",
      "text/plain": [
       "<Figure size 600x400 with 1 Axes>"
      ]
     },
     "metadata": {},
     "output_type": "display_data"
    }
   ],
   "source": [
    "import pytesseract\n",
    "from PIL import Image, ImageOps, ImageEnhance, ImageFilter\n",
    "from matplotlib import pyplot as plt\n",
    "\n",
    "# 이미지 불러오기\n",
    "image_path = r\"C:\\Parking control system\\extracted_plate.jpg\"\n",
    "image = Image.open(image_path)\n",
    "\n",
    "# 그레이스케일 변환\n",
    "image = ImageOps.grayscale(image)\n",
    "\n",
    "# 대비 증가\n",
    "enhancer = ImageEnhance.Contrast(image)\n",
    "image = enhancer.enhance(2.0)\n",
    "\n",
    "# 선명도 증가\n",
    "enhancer = ImageEnhance.Sharpness(image)\n",
    "image = enhancer.enhance(2.0)\n",
    "\n",
    "# 이진화\n",
    "threshold = 128\n",
    "image = image.point(lambda p: p > threshold and 255)\n",
    "\n",
    "# 노이즈 제거 필터 적용\n",
    "image = image.filter(ImageFilter.MedianFilter(size=3))\n",
    "\n",
    "# 결과 이미지 저장\n",
    "image.save('enhanced_plate.jpg')\n",
    "\n",
    "# 이미지 표시\n",
    "plt.figure(figsize=(6, 4))\n",
    "plt.imshow(image, cmap='gray')\n",
    "plt.axis('off')\n",
    "plt.show()\n"
   ]
  },
  {
   "cell_type": "code",
   "execution_count": 61,
   "metadata": {},
   "outputs": [
    {
     "data": {
      "image/png": "[encoded data removed]",
      "text/plain": [
       "<Figure size 600x400 with 1 Axes>"
      ]
     },
     "metadata": {},
     "output_type": "display_data"
    },
    {
     "name": "stdout",
     "output_type": "stream",
     "text": [
      " 0050 47274\n",
      "\n",
      "OCR 결과:\n",
      "| 0050 47274]\n",
      "\n"
     ]
    }
   ],
   "source": [
    "import cv2\n",
    "import pytesseract\n",
    "from PIL import Image\n",
    "from matplotlib import pyplot as plt\n",
    "import re\n",
    "\n",
    "# 이미지 불러오기\n",
    "image_path = r\"C:\\Parking control system\\extracted_plate.jpg\"\n",
    "image = cv2.imread(image_path)\n",
    "\n",
    "# 그레이스케일 변환\n",
    "gray_image = cv2.cvtColor(image, cv2.COLOR_BGR2GRAY)\n",
    "\n",
    "# 디노이즈\n",
    "gray_image = cv2.fastNlMeansDenoising(gray_image, None, 30, 7, 21)\n",
    "\n",
    "# 적응형 임계 처리 (adaptive thresholding)\n",
    "adaptive_thresh = cv2.adaptiveThreshold(\n",
    "    gray_image,\n",
    "    maxValue=255,\n",
    "    adaptiveMethod=cv2.ADAPTIVE_THRESH_GAUSSIAN_C,\n",
    "    thresholdType=cv2.THRESH_BINARY,\n",
    "    blockSize=11,\n",
    "    C=2\n",
    ")\n",
    "\n",
    "# 밝기 조정\n",
    "alpha = 1.5  # contrast control\n",
    "beta = 0  # brightness control\n",
    "adjusted = cv2.convertScaleAbs(adaptive_thresh, alpha=alpha, beta=beta)\n",
    "\n",
    "# 결과 이미지 저장\n",
    "cv2.imwrite('enhanced_plate.jpg', adjusted)\n",
    "\n",
    "# 이미지 표시\n",
    "plt.figure(figsize=(6, 4))\n",
    "plt.imshow(adjusted, cmap='gray')\n",
    "plt.axis('off')\n",
    "plt.show()\n",
    "\n",
    "# OCR 적용\n",
    "custom_config = r'--oem 3 --psm 6'\n",
    "text = pytesseract.image_to_string(adjusted, lang='kor', config=custom_config)\n",
    "clean_text = re.sub(r'[^\\w\\s]', '', text)\n",
    "print(clean_text)\n",
    "print(\"OCR 결과:\")\n",
    "print(text)\n"
   ]
  },
  {
   "cell_type": "code",
   "execution_count": 65,
   "metadata": {},
   "outputs": [
    {
     "name": "stdout",
     "output_type": "stream",
     "text": [
      "OCR 결과:\n",
      "\n"
     ]
    },
    {
     "data": {
      "text/plain": [
       "<Figure size 1000x200 with 0 Axes>"
      ]
     },
     "metadata": {},
     "output_type": "display_data"
    }
   ],
   "source": [
    "\n",
    "image = cv2.imread(image_path)\n",
    "gray_image = cv2.cvtColor(image, cv2.COLOR_BGR2GRAY)\n",
    "\n",
    "# 대비 향상 및 블러링\n",
    "gray_image = cv2.normalize(gray_image, None, 0, 255, cv2.NORM_MINMAX)\n",
    "blurred_image = cv2.GaussianBlur(gray_image, (5, 5), 0)\n",
    "\n",
    "# 이진화 적용\n",
    "_, thresh_image = cv2.threshold(blurred_image, 0, 255, cv2.THRESH_BINARY + cv2.THRESH_OTSU)\n",
    "\n",
    "# 컨투어 검출\n",
    "contours, _ = cv2.findContours(thresh_image, cv2.RETR_EXTERNAL, cv2.CHAIN_APPROX_SIMPLE)\n",
    "\n",
    "# 표준 크기 설정\n",
    "standard_size = (30, 60)  # 표준 문자 크기\n",
    "extracted_chars = []\n",
    "\n",
    "# 문자 영역 추출 및 크기 조정\n",
    "for contour in contours:\n",
    "    x, y, w, h = cv2.boundingRect(contour)\n",
    "    \n",
    "    # 문자 영역이 충분히 크고 적당한 비율인지 확인\n",
    "    if w > 5 and h > 10 and 0.2 < w/h < 1.0:\n",
    "        char_img = thresh_image[y:y + h, x:x + w]\n",
    "\n",
    "        # 크기 조정 및 경계 추가\n",
    "        resized_char_img = cv2.resize(char_img, standard_size, interpolation=cv2.INTER_AREA)\n",
    "        bordered_char_img = cv2.copyMakeBorder(resized_char_img, 5, 5, 5, 5, cv2.BORDER_CONSTANT, value=[0, 0, 0])\n",
    "        \n",
    "        extracted_chars.append(bordered_char_img)\n",
    "\n",
    "# 개별 문자 OCR 적용 및 결과 조합\n",
    "final_text = ''\n",
    "for char_img in extracted_chars:\n",
    "    char_text = pytesseract.image_to_string(char_img, config='--oem 3 --psm 10 -c tessedit_char_whitelist=0123456789가나다라마바사아자차카타파하')\n",
    "    final_text += char_text.strip()\n",
    "\n",
    "print(\"OCR 결과:\")\n",
    "print(final_text)\n",
    "\n",
    "# 결과 이미지 시각화\n",
    "plt.figure(figsize=(10, 2))\n",
    "for i, char_img in enumerate(extracted_chars):\n",
    "    plt.subplot(1, len(extracted_chars), i + 1)\n",
    "    plt.imshow(char_img, cmap='gray')\n",
    "    plt.axis('off')\n",
    "plt.show()\n"
   ]
  }
 ],
 "metadata": {
  "kernelspec": {
   "display_name": "Python 3",
   "language": "python",
   "name": "python3"
  },
  "language_info": {
   "name": "python",
   "version": "3.12.2"
  }
 },
 "nbformat": 4,
 "nbformat_minor": 2
}
